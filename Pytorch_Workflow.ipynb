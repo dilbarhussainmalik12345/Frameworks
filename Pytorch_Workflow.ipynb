{
  "cells": [
    {
      "cell_type": "code",
      "execution_count": null,
      "metadata": {
        "colab": {
          "base_uri": "https://localhost:8080/"
        },
        "id": "VhDizfZZT0MV",
        "outputId": "7a044a8a-cfbe-4cc2-c081-902a0996c32b"
      },
      "outputs": [
        {
          "output_type": "stream",
          "name": "stdout",
          "text": [
            "Welcome To PyTorch WorkFlow\n"
          ]
        }
      ],
      "source": [
        "print(\"Welcome To PyTorch WorkFlow\")"
      ]
    },
    {
      "cell_type": "code",
      "execution_count": null,
      "metadata": {
        "colab": {
          "base_uri": "https://localhost:8080/"
        },
        "id": "XT7J36A9UZtt",
        "outputId": "b98d5d75-6063-4bc3-c2f0-7e2a483492b8"
      },
      "outputs": [
        {
          "output_type": "execute_result",
          "data": {
            "text/plain": [
              "{1: 'Data (Prepare and Load)',\n",
              " 2: 'Build Model',\n",
              " 3: 'Filtering The Model to data (Training)',\n",
              " 4: 'Making Predictions and Evaluationg a model(inference)',\n",
              " 5: 'Saving and Loading a Model',\n",
              " 6: 'Puting it all to gather'}"
            ]
          },
          "metadata": {},
          "execution_count": 3
        }
      ],
      "source": [
        "what_we_are_covering = {1: \"Data (Prepare and Load)\",\n",
        "                        2: \"Build Model\",\n",
        "                        3: \"Filtering The Model to data (Training)\",\n",
        "                        4: \"Making Predictions and Evaluationg a model(inference)\",\n",
        "                        5: \"Saving and Loading a Model\",\n",
        "                        6: \"Puting it all to gather\"}\n",
        "what_we_are_covering"
      ]
    },
    {
      "cell_type": "code",
      "execution_count": null,
      "metadata": {
        "colab": {
          "base_uri": "https://localhost:8080/",
          "height": 35
        },
        "id": "_-fBPC96VpQi",
        "outputId": "e60a0740-06b1-4d43-fe93-c982ee88cc63"
      },
      "outputs": [
        {
          "output_type": "execute_result",
          "data": {
            "text/plain": [
              "'2.0.0+cu118'"
            ],
            "application/vnd.google.colaboratory.intrinsic+json": {
              "type": "string"
            }
          },
          "metadata": {},
          "execution_count": 4
        }
      ],
      "source": [
        "import torch\n",
        "from torch import nn # nn contains all of PyTorch's building blocks for Neural Networks\n",
        "import matplotlib.pyplot as plt\n",
        "\n",
        "\n",
        "# Check Pytorch version'\n",
        "torch.__version__"
      ]
    },
    {
      "cell_type": "code",
      "execution_count": null,
      "metadata": {
        "id": "GfUgyBtCW2kF"
      },
      "outputs": [],
      "source": [
        "# Data (Preparing and Loading Data)\n",
        "# Creating Simple data set using Linear Regression"
      ]
    },
    {
      "cell_type": "code",
      "execution_count": null,
      "metadata": {
        "colab": {
          "base_uri": "https://localhost:8080/"
        },
        "id": "40Iyx-ogfTOz",
        "outputId": "04f45671-e783-4878-be29-e6c1c0e9068c"
      },
      "outputs": [
        {
          "output_type": "execute_result",
          "data": {
            "text/plain": [
              "(tensor([[0.0000],\n",
              "         [0.0200],\n",
              "         [0.0400],\n",
              "         [0.0600],\n",
              "         [0.0800],\n",
              "         [0.1000],\n",
              "         [0.1200],\n",
              "         [0.1400],\n",
              "         [0.1600],\n",
              "         [0.1800]]),\n",
              " tensor([[0.3000],\n",
              "         [0.3140],\n",
              "         [0.3280],\n",
              "         [0.3420],\n",
              "         [0.3560],\n",
              "         [0.3700],\n",
              "         [0.3840],\n",
              "         [0.3980],\n",
              "         [0.4120],\n",
              "         [0.4260]]))"
            ]
          },
          "metadata": {},
          "execution_count": 6
        }
      ],
      "source": [
        "#Creating Known Parameters\n",
        "weight = 0.7\n",
        "bias = 0.3\n",
        "\n",
        "#create\n",
        "start = 0\n",
        "end = 1\n",
        "step = 0.02\n",
        "X = torch.arange(start, end, step).unsqueeze(dim = 1)\n",
        "Y = weight * X + bias\n",
        "\n",
        "X[:10], Y[:10]\n"
      ]
    },
    {
      "cell_type": "code",
      "execution_count": null,
      "metadata": {
        "colab": {
          "base_uri": "https://localhost:8080/"
        },
        "id": "TVlcC8lMhFnb",
        "outputId": "077ca0c7-4427-47d8-d82a-2c0395878ebc"
      },
      "outputs": [
        {
          "output_type": "execute_result",
          "data": {
            "text/plain": [
              "(50, 50)"
            ]
          },
          "metadata": {},
          "execution_count": 7
        }
      ],
      "source": [
        "len(X), len(Y)"
      ]
    },
    {
      "cell_type": "code",
      "execution_count": null,
      "metadata": {
        "id": "m1eUuNVfhZ-b"
      },
      "outputs": [],
      "source": [
        "#Spliting Data  into training and testing sets (one of the most important concepts in ML in general)\n"
      ]
    },
    {
      "cell_type": "code",
      "execution_count": null,
      "metadata": {
        "colab": {
          "base_uri": "https://localhost:8080/"
        },
        "id": "z3Kb1DF4iH2Y",
        "outputId": "527c5072-fd37-453b-cb59-2f6897a48bf6"
      },
      "outputs": [
        {
          "output_type": "execute_result",
          "data": {
            "text/plain": [
              "(40, 40, 10, 10)"
            ]
          },
          "metadata": {},
          "execution_count": 9
        }
      ],
      "source": [
        "#Create a train/test split\n",
        "train_split = int(0.8 * len(X))\n",
        "X_train, Y_train = X[:train_split], Y[:train_split]\n",
        "X_test, Y_test = X[train_split: ], Y[train_split: ]\n",
        "\n",
        "len(X_train), len(Y_train), len(X_test), len(Y_test)"
      ]
    },
    {
      "cell_type": "code",
      "execution_count": null,
      "metadata": {
        "id": "O5SjoypRkQvy"
      },
      "outputs": [],
      "source": [
        "def plot_predictions(train_data = X_train,\n",
        "                     train_labels = Y_train,\n",
        "                     test_data = X_test,\n",
        "                     test_labels = Y_test,\n",
        "                     predictions = None):\n",
        "  plt.figure(figsize= (10, 7))\n",
        "\n",
        "  # Plot training data in blue\n",
        "\n",
        "  plt.scatter(train_data, train_labels, c = \"b\", s = 4, label = \"Training data \")\n",
        "\n",
        "  #Plot test data in green\n",
        "\n",
        "  plt.scatter(test_data, test_labels, c = \"g\",  s = 4, label = \"Testing data \")\n",
        "\n",
        "  # Are there Predictions\n",
        "  if predictions is not None:\n",
        "    #Plot  the Predictions if they exist\n",
        "    plt.scatter(test_data, predictions, c = \"r\", s = 4, label = \"Predictions\")\n",
        "\n",
        "    # Show the legend\n",
        "  plt.legend(prop={\"size\": 14})\n",
        "\n",
        ""
      ]
    },
    {
      "cell_type": "code",
      "source": [
        "plot_predictions()"
      ],
      "metadata": {
        "colab": {
          "base_uri": "https://localhost:8080/",
          "height": 599
        },
        "id": "LgjjHtPGlwm_",
        "outputId": "c1d49f17-387a-4c6f-a08c-951cf7d3a559"
      },
      "execution_count": null,
      "outputs": [
        {
          "output_type": "display_data",
          "data": {
            "text/plain": [
              "<Figure size 1000x700 with 1 Axes>"
            ],
            "image/png": "[encoded data removed]"
          },
          "metadata": {}
        }
      ]
    },
    {
      "cell_type": "code",
      "source": [
        "# Build Model\n"
      ],
      "metadata": {
        "id": "FeEhUgFQnMKc"
      },
      "execution_count": null,
      "outputs": []
    },
    {
      "cell_type": "code",
      "source": [
        "#PyTorch First Model\n",
        "# Creating Linear Regression Model\n",
        "from torch import nn\n",
        "class LinearRegressionModel(nn.Module):\n",
        "  def __init__(self):\n",
        "    super().__init__()\n",
        "    self.weights = nn.Parameter(torch.randn(1,\n",
        "                                            requires_grad = True,\n",
        "                                            dtype=torch.float))\n",
        "    self.bias = nn.Parameter(torch.randn(1,\n",
        "                                         requires_grad = True,\n",
        "                                         dtype = torch.float))\n",
        "\n",
        "    #Forward method to define the computation in the model\n",
        "  def forward(self, x: torch.Tensor) -> torch.Tensor: # X is the input data\n",
        "    return self.weights * x + self.bias # this is the linear regression model formul\n"
      ],
      "metadata": {
        "id": "0eOEjvSkn7pe"
      },
      "execution_count": null,
      "outputs": []
    },
    {
      "cell_type": "code",
      "source": [
        "# PyTorch Building essentials"
      ],
      "metadata": {
        "id": "BoVEj7HErnaN"
      },
      "execution_count": null,
      "outputs": []
    },
    {
      "cell_type": "code",
      "source": [
        "# Checking the content of our PyTorch Model\n",
        "\n",
        "# Creating random seed\n",
        "\n",
        "torch.manual_seed(42)\n",
        "\n",
        "# Create an instance of the model\n",
        "model_0 = LinearRegressionModel()"
      ],
      "metadata": {
        "id": "o-5IiPO2t7jz"
      },
      "execution_count": null,
      "outputs": []
    },
    {
      "cell_type": "code",
      "source": [
        "# check out parameters\n",
        "list(model_0.parameters())"
      ],
      "metadata": {
        "colab": {
          "base_uri": "https://localhost:8080/"
        },
        "id": "LVCCz-UCuTds",
        "outputId": "a6b471c3-0964-4c3c-edb2-f208fc37f1dc"
      },
      "execution_count": null,
      "outputs": [
        {
          "output_type": "execute_result",
          "data": {
            "text/plain": [
              "[Parameter containing:\n",
              " tensor([0.3367], requires_grad=True),\n",
              " Parameter containing:\n",
              " tensor([0.1288], requires_grad=True)]"
            ]
          },
          "metadata": {},
          "execution_count": 16
        }
      ]
    },
    {
      "cell_type": "code",
      "source": [
        "model_0.state_dict() # List name parameters"
      ],
      "metadata": {
        "colab": {
          "base_uri": "https://localhost:8080/"
        },
        "id": "CERDaxJjul2i",
        "outputId": "706033e7-c71a-40eb-a73b-3ecf3f432576"
      },
      "execution_count": null,
      "outputs": [
        {
          "output_type": "execute_result",
          "data": {
            "text/plain": [
              "OrderedDict([('weights', tensor([0.3367])), ('bias', tensor([0.1288]))])"
            ]
          },
          "metadata": {},
          "execution_count": 17
        }
      ]
    },
    {
      "cell_type": "code",
      "source": [
        "# Make predictions with Model\n",
        "with torch.inference_mode():\n",
        "  y_preds = model_0(X_test)\n",
        "\n",
        "y_preds"
      ],
      "metadata": {
        "colab": {
          "base_uri": "https://localhost:8080/"
        },
        "id": "bX6HsNV4vaML",
        "outputId": "453cd8a2-7659-4523-f2e5-54e3f97fe02c"
      },
      "execution_count": null,
      "outputs": [
        {
          "output_type": "execute_result",
          "data": {
            "text/plain": [
              "tensor([[0.3982],\n",
              "        [0.4049],\n",
              "        [0.4116],\n",
              "        [0.4184],\n",
              "        [0.4251],\n",
              "        [0.4318],\n",
              "        [0.4386],\n",
              "        [0.4453],\n",
              "        [0.4520],\n",
              "        [0.4588]])"
            ]
          },
          "metadata": {},
          "execution_count": 18
        }
      ]
    },
    {
      "cell_type": "code",
      "source": [
        "plot_predictions(predictions = y_preds)"
      ],
      "metadata": {
        "colab": {
          "base_uri": "https://localhost:8080/",
          "height": 599
        },
        "id": "RDrsMDYHv65z",
        "outputId": "d1118266-a246-4a10-dc25-f356d6155307"
      },
      "execution_count": null,
      "outputs": [
        {
          "output_type": "display_data",
          "data": {
            "text/plain": [
              "<Figure size 1000x700 with 1 Axes>"
            ],
            "image/png": "[encoded data removed]"
          },
          "metadata": {}
        }
      ]
    },
    {
      "cell_type": "code",
      "source": [
        "Y_test"
      ],
      "metadata": {
        "colab": {
          "base_uri": "https://localhost:8080/"
        },
        "id": "Mh6LKXsWw74_",
        "outputId": "8df3635b-9c18-45ba-e2d8-c258b3b84498"
      },
      "execution_count": null,
      "outputs": [
        {
          "output_type": "execute_result",
          "data": {
            "text/plain": [
              "tensor([[0.8600],\n",
              "        [0.8740],\n",
              "        [0.8880],\n",
              "        [0.9020],\n",
              "        [0.9160],\n",
              "        [0.9300],\n",
              "        [0.9440],\n",
              "        [0.9580],\n",
              "        [0.9720],\n",
              "        [0.9860]])"
            ]
          },
          "metadata": {},
          "execution_count": 20
        }
      ]
    },
    {
      "cell_type": "code",
      "source": [
        "# Train model\n",
        "with torch.inference_mode():\n",
        "  list(model_0.eval().parameters())\n",
        "list (model_0.parameters())"
      ],
      "metadata": {
        "colab": {
          "base_uri": "https://localhost:8080/"
        },
        "id": "YHwfBmis0qZe",
        "outputId": "45b5d697-f2b6-4587-8220-657af373f981"
      },
      "execution_count": null,
      "outputs": [
        {
          "output_type": "execute_result",
          "data": {
            "text/plain": [
              "[Parameter containing:\n",
              " tensor([0.3367], requires_grad=True),\n",
              " Parameter containing:\n",
              " tensor([0.1288], requires_grad=True)]"
            ]
          },
          "metadata": {},
          "execution_count": 21
        }
      ]
    },
    {
      "cell_type": "code",
      "source": [
        "model_0.state_dict()"
      ],
      "metadata": {
        "colab": {
          "base_uri": "https://localhost:8080/"
        },
        "id": "XVnCCIwU5EcU",
        "outputId": "d4f62192-406f-4747-db80-61053abf3dcf"
      },
      "execution_count": null,
      "outputs": [
        {
          "output_type": "execute_result",
          "data": {
            "text/plain": [
              "OrderedDict([('weights', tensor([0.3367])), ('bias', tensor([0.1288]))])"
            ]
          },
          "metadata": {},
          "execution_count": 22
        }
      ]
    },
    {
      "cell_type": "code",
      "source": [
        "# Setup a loss function\n",
        "loss_fn = nn.L1Loss()\n"
      ],
      "metadata": {
        "id": "YQ8Rvdys5TlE"
      },
      "execution_count": null,
      "outputs": []
    },
    {
      "cell_type": "code",
      "source": [
        "# Setup an Optimizer\n",
        "optimizer = torch.optim.SGD(params = model_0.parameters(),\n",
        "                            lr = 0.01) # it only adjusts the model/ LR shows Learning rate"
      ],
      "metadata": {
        "id": "7CEVUOe456cp"
      },
      "execution_count": null,
      "outputs": []
    },
    {
      "cell_type": "code",
      "source": [
        "# Training\n",
        "\n",
        "torch.manual_seed(42)\n",
        "epochs = 200\n",
        "\n",
        "\n",
        "# tracking Different value\n",
        "epoch_count = []\n",
        "loss_values = []\n",
        "test_loss_values = []\n",
        "\n",
        "for epoch in range(epochs):\n",
        "  model_0.train()\n",
        "\n",
        "\n",
        "  #Forward Pass\n",
        "  y_preds = model_0(X_train)\n",
        "\n",
        "  #Calculate loss function\n",
        "  loss = loss_fn(y_preds, Y_train)\n",
        "\n",
        "\n",
        "  # Optimizer zero grad\n",
        "  optimizer.zero_grad()\n",
        "\n",
        "  #Perform back propagation\n",
        "  loss.backward()\n",
        "\n",
        "  # Step the optimizer\n",
        "\n",
        "  optimizer.step()\n",
        "\n",
        "# Testing\n",
        "  model_0.eval() # turn off gradient tracking\n",
        "\n",
        "  with torch.inference_mode():\n",
        "    test_pred = model_0(X_test)\n",
        "  #with torch.no_grad():\n",
        "\n",
        "\n",
        " # Calculate the Loss\n",
        "  test_loss = loss_fn(test_pred, Y_test)\n",
        "\n",
        "# print out what happing\n",
        "  if epoch % 40 == 0:\n",
        "    epoch_count.append(epoch)\n",
        "    loss_values.append(loss)\n",
        "    test_loss_values.append(test_loss)\n",
        "    print(f\"Epochs: {epoch} | Loss: {loss} | Test Loss: {test_loss}\")\n",
        "    print(model_0.state_dict())\n",
        "\n",
        "  print(f\"Loss:  {loss}\")"
      ],
      "metadata": {
        "colab": {
          "base_uri": "https://localhost:8080/"
        },
        "id": "v71oT7C89T6V",
        "outputId": "2a1e5fe0-74ad-4947-dd5c-68458d4613ac"
      },
      "execution_count": null,
      "outputs": [
        {
          "output_type": "stream",
          "name": "stdout",
          "text": [
            "Epochs: 0 | Loss: 0.31288138031959534 | Test Loss: 0.48106518387794495\n",
            "OrderedDict([('weights', tensor([0.3406])), ('bias', tensor([0.1388]))])\n",
            "Loss:  0.31288138031959534\n",
            "Loss:  0.3013603389263153\n",
            "Loss:  0.28983935713768005\n",
            "Loss:  0.2783183455467224\n",
            "Loss:  0.26679736375808716\n",
            "Loss:  0.2552763521671295\n",
            "Loss:  0.24375534057617188\n",
            "Loss:  0.23223432898521423\n",
            "Loss:  0.22071333229541779\n",
            "Loss:  0.20919232070446014\n",
            "Loss:  0.1976713240146637\n",
            "Loss:  0.18615034222602844\n",
            "Loss:  0.1746293306350708\n",
            "Loss:  0.16310831904411316\n",
            "Loss:  0.1515873372554779\n",
            "Loss:  0.14006635546684265\n",
            "Loss:  0.1285453587770462\n",
            "Loss:  0.11702437698841095\n",
            "Loss:  0.1060912236571312\n",
            "Loss:  0.09681284427642822\n",
            "Loss:  0.08908725529909134\n",
            "Loss:  0.08227583020925522\n",
            "Loss:  0.07638873159885406\n",
            "Loss:  0.07160007208585739\n",
            "Loss:  0.06747635453939438\n",
            "Loss:  0.06395438313484192\n",
            "Loss:  0.06097004935145378\n",
            "Loss:  0.05845819041132927\n",
            "Loss:  0.05635259300470352\n",
            "Loss:  0.0545857772231102\n",
            "Loss:  0.053148526698350906\n",
            "Loss:  0.05181945487856865\n",
            "Loss:  0.05069301277399063\n",
            "Loss:  0.0498228520154953\n",
            "Loss:  0.04895269125699997\n",
            "Loss:  0.04819351062178612\n",
            "Loss:  0.047531817108392715\n",
            "Loss:  0.04692792519927025\n",
            "Loss:  0.04642331600189209\n",
            "Loss:  0.04591871052980423\n",
            "Epochs: 40 | Loss: 0.04543796554207802 | Test Loss: 0.11360953003168106\n",
            "OrderedDict([('weights', tensor([0.4748])), ('bias', tensor([0.3868]))])\n",
            "Loss:  0.04543796554207802\n",
            "Loss:  0.04503796249628067\n",
            "Loss:  0.04463795945048332\n",
            "Loss:  0.04423796385526657\n",
            "Loss:  0.04383796453475952\n",
            "Loss:  0.04343796148896217\n",
            "Loss:  0.043074630200862885\n",
            "Loss:  0.04272563382983208\n",
            "Loss:  0.04237663000822067\n",
            "Loss:  0.04202762991189957\n",
            "Loss:  0.04167863354086876\n",
            "Loss:  0.04132963344454765\n",
            "Loss:  0.04098063334822655\n",
            "Loss:  0.04063162952661514\n",
            "Loss:  0.040282636880874634\n",
            "Loss:  0.039933640509843826\n",
            "Loss:  0.03958464413881302\n",
            "Loss:  0.03923564404249191\n",
            "Loss:  0.03888664394617081\n",
            "Loss:  0.0385376438498497\n",
            "Loss:  0.03818932920694351\n",
            "Loss:  0.03785243630409241\n",
            "Loss:  0.0375034399330616\n",
            "Loss:  0.037164121866226196\n",
            "Loss:  0.03681822493672371\n",
            "Loss:  0.03647511452436447\n",
            "Loss:  0.03613303601741791\n",
            "Loss:  0.03578609973192215\n",
            "Loss:  0.03544783592224121\n",
            "Loss:  0.035098835825920105\n",
            "Loss:  0.03476089984178543\n",
            "Loss:  0.03441363573074341\n",
            "Loss:  0.03407188132405281\n",
            "Loss:  0.03372843936085701\n",
            "Loss:  0.03338287025690079\n",
            "Loss:  0.033043231815099716\n",
            "Loss:  0.03269423171877861\n",
            "Loss:  0.032357655465602875\n",
            "Loss:  0.03200903534889221\n",
            "Loss:  0.03166864812374115\n",
            "Epochs: 80 | Loss: 0.03132382780313492 | Test Loss: 0.07232122868299484\n",
            "OrderedDict([('weights', tensor([0.5459])), ('bias', tensor([0.3648]))])\n",
            "Loss:  0.03132382780313492\n",
            "Loss:  0.030979642644524574\n",
            "Loss:  0.030638623982667923\n",
            "Loss:  0.0302906334400177\n",
            "Loss:  0.029953425750136375\n",
            "Loss:  0.02960442565381527\n",
            "Loss:  0.029265418648719788\n",
            "Loss:  0.028919223695993423\n",
            "Loss:  0.028576409444212914\n",
            "Loss:  0.028234025463461876\n",
            "Loss:  0.02788739837706089\n",
            "Loss:  0.02754882536828518\n",
            "Loss:  0.027199819684028625\n",
            "Loss:  0.026862185448408127\n",
            "Loss:  0.02651461586356163\n",
            "Loss:  0.026173178106546402\n",
            "Loss:  0.025829419493675232\n",
            "Loss:  0.02548416517674923\n",
            "Loss:  0.025144213810563087\n",
            "Loss:  0.02479521557688713\n",
            "Loss:  0.024458957836031914\n",
            "Loss:  0.024110013619065285\n",
            "Loss:  0.02376994863152504\n",
            "Loss:  0.02342480979859829\n",
            "Loss:  0.023080935701727867\n",
            "Loss:  0.022739607840776443\n",
            "Loss:  0.022391926497220993\n",
            "Loss:  0.022054409608244896\n",
            "Loss:  0.02170540764927864\n",
            "Loss:  0.021366719156503677\n",
            "Loss:  0.021020207554101944\n",
            "Loss:  0.020677709951996803\n",
            "Loss:  0.02033500373363495\n",
            "Loss:  0.01998869702219963\n",
            "Loss:  0.019649803638458252\n",
            "Loss:  0.019300809130072594\n",
            "Loss:  0.018963487818837166\n",
            "Loss:  0.01861560344696045\n",
            "Loss:  0.018274478614330292\n",
            "Loss:  0.017930403351783752\n",
            "Epochs: 120 | Loss: 0.01758546568453312 | Test Loss: 0.04060482233762741\n",
            "OrderedDict([('weights', tensor([0.6141])), ('bias', tensor([0.3358]))])\n",
            "Loss:  0.01758546568453312\n",
            "Loss:  0.017245199531316757\n",
            "Loss:  0.016896454617381096\n",
            "Loss:  0.01656000316143036\n",
            "Loss:  0.016210997477173805\n",
            "Loss:  0.01587124727666378\n",
            "Loss:  0.015525798313319683\n",
            "Loss:  0.015182236209511757\n",
            "Loss:  0.014840595424175262\n",
            "Loss:  0.01449323259294033\n",
            "Loss:  0.014155393466353416\n",
            "Loss:  0.013806397095322609\n",
            "Loss:  0.013468016870319843\n",
            "Loss:  0.013121193274855614\n",
            "Loss:  0.01277900766581297\n",
            "Loss:  0.012435992248356342\n",
            "Loss:  0.01208999752998352\n",
            "Loss:  0.011750795878469944\n",
            "Loss:  0.011401787400245667\n",
            "Loss:  0.011064787395298481\n",
            "Loss:  0.010716589167714119\n",
            "Loss:  0.010375778190791607\n",
            "Loss:  0.010031387209892273\n",
            "Loss:  0.009686763398349285\n",
            "Loss:  0.009346187114715576\n",
            "Loss:  0.008997755125164986\n",
            "Loss:  0.008660981431603432\n",
            "Loss:  0.008311985060572624\n",
            "Loss:  0.007972544990479946\n",
            "Loss:  0.007626785431057215\n",
            "Loss:  0.0072835334576666355\n",
            "Loss:  0.006941580679267645\n",
            "Loss:  0.006594526115804911\n",
            "Loss:  0.006256377790123224\n",
            "Loss:  0.005907376762479544\n",
            "Loss:  0.005569315515458584\n",
            "Loss:  0.005222178064286709\n",
            "Loss:  0.004880306776612997\n",
            "Loss:  0.004536976106464863\n",
            "Loss:  0.00419129803776741\n",
            "Epochs: 160 | Loss: 0.0038517764769494534 | Test Loss: 0.008201557211577892\n",
            "OrderedDict([('weights', tensor([0.6826])), ('bias', tensor([0.3073]))])\n",
            "Loss:  0.0038517764769494534\n",
            "Loss:  0.0035027749836444855\n",
            "Loss:  0.0031660839449614286\n",
            "Loss:  0.002817571861669421\n",
            "Loss:  0.0024770735763013363\n",
            "Loss:  0.0021323717664927244\n",
            "Loss:  0.0017880648374557495\n",
            "Loss:  0.0014518328243866563\n",
            "Loss:  0.0011887758737429976\n",
            "Loss:  0.0025885067880153656\n",
            "Loss:  0.008932482451200485\n",
            "Loss:  0.0025885067880153656\n",
            "Loss:  0.008932482451200485\n",
            "Loss:  0.0025885067880153656\n",
            "Loss:  0.008932482451200485\n",
            "Loss:  0.0025885067880153656\n",
            "Loss:  0.008932482451200485\n",
            "Loss:  0.0025885067880153656\n",
            "Loss:  0.008932482451200485\n",
            "Loss:  0.0025885067880153656\n",
            "Loss:  0.008932482451200485\n",
            "Loss:  0.0025885067880153656\n",
            "Loss:  0.008932482451200485\n",
            "Loss:  0.0025885067880153656\n",
            "Loss:  0.008932482451200485\n",
            "Loss:  0.0025885067880153656\n",
            "Loss:  0.008932482451200485\n",
            "Loss:  0.0025885067880153656\n",
            "Loss:  0.008932482451200485\n",
            "Loss:  0.0025885067880153656\n",
            "Loss:  0.008932482451200485\n",
            "Loss:  0.0025885067880153656\n",
            "Loss:  0.008932482451200485\n",
            "Loss:  0.0025885067880153656\n",
            "Loss:  0.008932482451200485\n",
            "Loss:  0.0025885067880153656\n",
            "Loss:  0.008932482451200485\n",
            "Loss:  0.0025885067880153656\n",
            "Loss:  0.008932482451200485\n",
            "Loss:  0.0025885067880153656\n"
          ]
        }
      ]
    },
    {
      "cell_type": "code",
      "source": [
        "epoch_count, loss_values, test_loss_values"
      ],
      "metadata": {
        "colab": {
          "base_uri": "https://localhost:8080/"
        },
        "id": "ubpVYSQCzxw3",
        "outputId": "db5a73cc-da25-4beb-d54d-8121888a16d4"
      },
      "execution_count": null,
      "outputs": [
        {
          "output_type": "execute_result",
          "data": {
            "text/plain": [
              "([0, 40, 80, 120, 160],\n",
              " [tensor(0.3129, grad_fn=<MeanBackward0>),\n",
              "  tensor(0.0454, grad_fn=<MeanBackward0>),\n",
              "  tensor(0.0313, grad_fn=<MeanBackward0>),\n",
              "  tensor(0.0176, grad_fn=<MeanBackward0>),\n",
              "  tensor(0.0039, grad_fn=<MeanBackward0>)],\n",
              " [tensor(0.4811),\n",
              "  tensor(0.1136),\n",
              "  tensor(0.0723),\n",
              "  tensor(0.0406),\n",
              "  tensor(0.0082)])"
            ]
          },
          "metadata": {},
          "execution_count": 26
        }
      ]
    },
    {
      "cell_type": "code",
      "source": [
        "import numpy as np\n",
        "np.array(torch.tensor(loss_values).numpy()), test_loss_values"
      ],
      "metadata": {
        "colab": {
          "base_uri": "https://localhost:8080/"
        },
        "id": "usuUN8l017nY",
        "outputId": "ca7efbdc-d412-4ba6-bc96-4aac4852fd4e"
      },
      "execution_count": null,
      "outputs": [
        {
          "output_type": "execute_result",
          "data": {
            "text/plain": [
              "(array([0.31288138, 0.04543797, 0.03132383, 0.01758547, 0.00385178],\n",
              "       dtype=float32),\n",
              " [tensor(0.4811),\n",
              "  tensor(0.1136),\n",
              "  tensor(0.0723),\n",
              "  tensor(0.0406),\n",
              "  tensor(0.0082)])"
            ]
          },
          "metadata": {},
          "execution_count": 27
        }
      ]
    },
    {
      "cell_type": "code",
      "source": [
        "# Plot the loss curves\n",
        "plt.plot(epoch_count, np.array(torch.tensor(loss_values).numpy()), label = \"Train loss \")\n",
        "plt.plot(epoch_count, test_loss_values,label= \"Test Loss \" )\n",
        "plt.title(\"training and Test loss curves \")\n",
        "plt.ylabel(\"Loss \")\n",
        "plt.xlabel(\"Epochs \")\n",
        "plt.legend();"
      ],
      "metadata": {
        "colab": {
          "base_uri": "https://localhost:8080/",
          "height": 472
        },
        "id": "DZw4oqbfzmIv",
        "outputId": "262d19f1-5a06-4fa6-f2a8-4d0239d3c19e"
      },
      "execution_count": null,
      "outputs": [
        {
          "output_type": "display_data",
          "data": {
            "text/plain": [
              "<Figure size 640x480 with 1 Axes>"
            ],
            "image/png": "[encoded data removed]"
          },
          "metadata": {}
        }
      ]
    },
    {
      "cell_type": "code",
      "source": [
        " with torch.inference_mode():\n",
        "  y_preds_new = model_0(X_test)"
      ],
      "metadata": {
        "id": "rPnRDbUFey7h"
      },
      "execution_count": null,
      "outputs": []
    },
    {
      "cell_type": "code",
      "source": [
        "model_0.state_dict()"
      ],
      "metadata": {
        "colab": {
          "base_uri": "https://localhost:8080/"
        },
        "id": "weJj7bvcgr7v",
        "outputId": "ccc7495a-db13-4ed5-bed3-e089244fb134"
      },
      "execution_count": null,
      "outputs": [
        {
          "output_type": "execute_result",
          "data": {
            "text/plain": [
              "OrderedDict([('weights', tensor([0.6990])), ('bias', tensor([0.3093]))])"
            ]
          },
          "metadata": {},
          "execution_count": 30
        }
      ]
    },
    {
      "cell_type": "code",
      "source": [
        "weight, bias"
      ],
      "metadata": {
        "colab": {
          "base_uri": "https://localhost:8080/"
        },
        "id": "nX68F_dohRsl",
        "outputId": "c30a6381-59ab-4b54-ccec-c1bf5c8d6fd0"
      },
      "execution_count": null,
      "outputs": [
        {
          "output_type": "execute_result",
          "data": {
            "text/plain": [
              "(0.7, 0.3)"
            ]
          },
          "metadata": {},
          "execution_count": 31
        }
      ]
    },
    {
      "cell_type": "code",
      "source": [
        "plot_predictions(predictions=y_preds_new);"
      ],
      "metadata": {
        "colab": {
          "base_uri": "https://localhost:8080/",
          "height": 599
        },
        "id": "1gtmWxu4hdq_",
        "outputId": "1024f51d-491c-4ab7-a66e-af26b6501357"
      },
      "execution_count": null,
      "outputs": [
        {
          "output_type": "display_data",
          "data": {
            "text/plain": [
              "<Figure size 1000x700 with 1 Axes>"
            ],
            "image/png": "[encoded data removed]"
          },
          "metadata": {}
        }
      ]
    },
    {
      "cell_type": "code",
      "source": [
        "# Saving a model in PyTorch\n",
        "from pathlib import Path\n",
        "\n",
        "\n",
        " # 1. Create Model Directory\n",
        "MODEL_PATH = Path(\"Models \")\n",
        "MODEL_PATH.mkdir(parents = True, exist_ok =True)\n",
        "\n",
        " # 2. Create Model Save Path\n",
        "MODEL_NAME = \"PyTorch_Workflow.pth\"\n",
        "MODEL_SAVE_PATH = MODEL_PATH / MODEL_NAME\n",
        "\n",
        "MODEL_SAVE_PATH\n",
        "\n",
        "#3. Save the Model state dict\n",
        "print(f\"Saving Model to: {MODEL_SAVE_PATH}\")\n",
        "torch.save(obj = model_0.state_dict(),\n",
        "           f = MODEL_SAVE_PATH)"
      ],
      "metadata": {
        "id": "6gdg9-oCiqVC",
        "colab": {
          "base_uri": "https://localhost:8080/"
        },
        "outputId": "2825d713-e778-4e5d-d64f-6fae88ef0bec"
      },
      "execution_count": null,
      "outputs": [
        {
          "output_type": "stream",
          "name": "stdout",
          "text": [
            "Saving Model to: Models /PyTorch_Workflow.pth\n"
          ]
        }
      ]
    },
    {
      "cell_type": "code",
      "source": [
        "# Loading a PyTorch Model\n",
        "model_0.state_dict()"
      ],
      "metadata": {
        "colab": {
          "base_uri": "https://localhost:8080/"
        },
        "id": "2HTBfqDh7JJV",
        "outputId": "c32d5bd4-ae2d-4505-8248-34bed3274ba8"
      },
      "execution_count": null,
      "outputs": [
        {
          "output_type": "execute_result",
          "data": {
            "text/plain": [
              "OrderedDict([('weights', tensor([0.6990])), ('bias', tensor([0.3093]))])"
            ]
          },
          "metadata": {},
          "execution_count": 34
        }
      ]
    },
    {
      "cell_type": "code",
      "source": [
        "loaded_model_0 = LinearRegressionModel()\n",
        "loaded_model_0.load_state_dict(torch.load(f = MODEL_SAVE_PATH))"
      ],
      "metadata": {
        "colab": {
          "base_uri": "https://localhost:8080/"
        },
        "id": "V4yyuJ2r9MOv",
        "outputId": "a1c97f21-057f-45ea-88ed-fc1a6389fb96"
      },
      "execution_count": null,
      "outputs": [
        {
          "output_type": "execute_result",
          "data": {
            "text/plain": [
              "<All keys matched successfully>"
            ]
          },
          "metadata": {},
          "execution_count": 35
        }
      ]
    },
    {
      "cell_type": "code",
      "source": [
        "loaded_model_0.state_dict()"
      ],
      "metadata": {
        "colab": {
          "base_uri": "https://localhost:8080/"
        },
        "id": "IrKXXu_A9fT3",
        "outputId": "cd9a18fc-0043-422a-9ffa-7c2fb3c0286c"
      },
      "execution_count": null,
      "outputs": [
        {
          "output_type": "execute_result",
          "data": {
            "text/plain": [
              "OrderedDict([('weights', tensor([0.6990])), ('bias', tensor([0.3093]))])"
            ]
          },
          "metadata": {},
          "execution_count": 36
        }
      ]
    },
    {
      "cell_type": "code",
      "source": [
        "# Make some predictions with loaded model\n",
        "loaded_model_0.eval()\n",
        "with torch.inference_mode():\n",
        "  loaded_model_preds = loaded_model_0(X_test)\n",
        "\n",
        "loaded_model_preds"
      ],
      "metadata": {
        "colab": {
          "base_uri": "https://localhost:8080/"
        },
        "id": "9aj06jYa9lx-",
        "outputId": "60ef6ec6-4da2-43b5-f60c-9d8ca129bf91"
      },
      "execution_count": null,
      "outputs": [
        {
          "output_type": "execute_result",
          "data": {
            "text/plain": [
              "tensor([[0.8685],\n",
              "        [0.8825],\n",
              "        [0.8965],\n",
              "        [0.9105],\n",
              "        [0.9245],\n",
              "        [0.9384],\n",
              "        [0.9524],\n",
              "        [0.9664],\n",
              "        [0.9804],\n",
              "        [0.9944]])"
            ]
          },
          "metadata": {},
          "execution_count": 37
        }
      ]
    },
    {
      "cell_type": "code",
      "source": [
        "# Compare loaded model preds with the original model\n",
        "y_preds == loaded_model_preds\n"
      ],
      "metadata": {
        "colab": {
          "base_uri": "https://localhost:8080/",
          "height": 183
        },
        "id": "fmrve8xqA4tK",
        "outputId": "b8558975-224f-4b36-ec77-07003c94aae5"
      },
      "execution_count": null,
      "outputs": [
        {
          "output_type": "error",
          "ename": "RuntimeError",
          "evalue": "ignored",
          "traceback": [
            "\u001b[0;31m---------------------------------------------------------------------------\u001b[0m",
            "\u001b[0;31mRuntimeError\u001b[0m                              Traceback (most recent call last)",
            "\u001b[0;32m<ipython-input-40-b993625ab9d2>\u001b[0m in \u001b[0;36m<cell line: 2>\u001b[0;34m()\u001b[0m\n\u001b[1;32m      1\u001b[0m \u001b[0;31m# Compare loaded model preds with the original model\u001b[0m\u001b[0;34m\u001b[0m\u001b[0;34m\u001b[0m\u001b[0m\n\u001b[0;32m----> 2\u001b[0;31m \u001b[0my_preds\u001b[0m \u001b[0;34m==\u001b[0m \u001b[0mloaded_model_preds\u001b[0m\u001b[0;34m\u001b[0m\u001b[0;34m\u001b[0m\u001b[0m\n\u001b[0m",
            "\u001b[0;31mRuntimeError\u001b[0m: The size of tensor a (40) must match the size of tensor b (10) at non-singleton dimension 0"
          ]
        }
      ]
    },
    {
      "cell_type": "code",
      "source": [
        "#Confrimation Check\n",
        "y_preds"
      ],
      "metadata": {
        "id": "YyOrUginK8eL"
      },
      "execution_count": null,
      "outputs": []
    },
    {
      "cell_type": "code",
      "source": [
        "#Check prediction\n",
        "loaded_model_preds"
      ],
      "metadata": {
        "id": "kOa8NsrIMuV8"
      },
      "execution_count": null,
      "outputs": []
    },
    {
      "cell_type": "code",
      "source": [],
      "metadata": {
        "id": "joCg7JYqM4fo"
      },
      "execution_count": null,
      "outputs": []
    }
  ],
  "metadata": {
    "colab": {
      "provenance": [],
      "gpuType": "T4"
    },
    "gpuClass": "standard",
    "kernelspec": {
      "display_name": "Python 3",
      "name": "python3"
    },
    "language_info": {
      "name": "python"
    },
    "accelerator": "GPU"
  },
  "nbformat": 4,
  "nbformat_minor": 0
}